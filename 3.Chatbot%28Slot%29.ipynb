{
 "cells": [
  {
   "cell_type": "markdown",
   "metadata": {},
   "source": [
    "# 챗봇 만들기(Char+CNN / Bi-LSTM)"
   ]
  },
  {
   "cell_type": "code",
   "execution_count": null,
   "metadata": {
    "collapsed": true
   },
   "outputs": [],
   "source": [
    "train_data_order = ['2017년식 쏘나타에 주행중 소음이나서 p0300 발생 브레이크 패드 교체하고 시운전 후 이상없음']\n",
    "train_data_reserve = ['정비소 추천 해줄레']\n",
    "train_data_info = ['2017년식 쏘나타에 주행중 소음이나서 p0300 발생 브레이크 패드 교체하고 시운전 후 이상없음']\n",
    "bb = ['2017년식 쏘나타에 무슨 문제가 있는지 알려줘']\n",
    "aa = ['언제 엔진오일 갈았는지 알려줘']\n",
    "\n",
    "\n",
    "get_data_list = train_data_info[0]\n",
    "\n",
    "dict_entity = {\n",
    "    'vehl' : ['쏘나타','아반떼','스팅어','제네시스','산타페','투싼'],\n",
    "    'year' : ['2017','2016','2015','2014'],\n",
    "    'psit' : ['소음','누수','시동꺼짐'],\n",
    "    'part' : ['도어트림','엔진','미션','브레이크','브레이크 패드'],\n",
    "    'un_repair' : ['재현 안됨','나중에 동일현상 발생 시 재입고 요망' ],\n",
    "    'condition' : ['정차시','주행','시동시'],\n",
    "    'center' : ['정비소','정비센터','블루링크','오토큐'],\n",
    "    'dtc' : ['0300','b0400','c0500'],\n",
    "    'position' : ['앞','뒤']\n",
    "}"
   ]
  },
  {
   "cell_type": "code",
   "execution_count": 1,
   "metadata": {
    "collapsed": true
   },
   "outputs": [],
   "source": [
    "input_data = \"2017년식 쏘나타에 무슨 문제가 있는지 알려줘\" #채팅에서 입력\n",
    "output_data = \"\"\n",
    "#챗봇에서 서버와 주고받을 REST format \n",
    "request = {\n",
    "            \"intent_id\" : \"\",\n",
    "            \"input_data\":input_data, \n",
    "            \"request_type\" : \"text\",\n",
    "            \"story_slot_entity\" : {},\n",
    "            \"output_data\" : output_data\n",
    "          }\n"
   ]
  },
  {
   "cell_type": "markdown",
   "metadata": {},
   "source": [
    "# 기본 Data Set (DB)"
   ]
  },
  {
   "cell_type": "code",
   "execution_count": 2,
   "metadata": {
    "collapsed": true
   },
   "outputs": [],
   "source": [
    "voc_list = []\n",
    "\n",
    "intent_list = {\n",
    "    \"정비진단\" : [\"문제\",\"현상\",\"원인\",\"조치\",\"해결\",\"조건\",\"차종\",\"연식\"],\n",
    "    \"정비추천\" : [\"언제\",\"교환\"],\n",
    "    \"정보\" : [\"정보\", \"알려\", \"읽어줘\"]\n",
    "}\n",
    "\n",
    "ner_list = []\n",
    "\n",
    "story_slot_entity = {\"정비진단\": {\"현상\" : None, \"조건\" : None, \"차종\" : None},\n",
    "                     \"정비추천\": {\"언제\" : None, \"교환\" : None},\n",
    "                     \"정보\": {\"대상\" : None}                    \n",
    "                    }\n",
    "menu_list = ['소음','누수','시동꺼짐']"
   ]
  },
  {
   "cell_type": "markdown",
   "metadata": {},
   "source": [
    "# 형태소 분석"
   ]
  },
  {
   "cell_type": "code",
   "execution_count": 3,
   "metadata": {
    "collapsed": true
   },
   "outputs": [],
   "source": [
    "#형태소 분석 mecab사용\n",
    "from konlpy.tag import Mecab\n",
    "mecab = Mecab('/usr/local/lib/mecab/dic/mecab-ko-dic') #고유명사는 별도 NNP 등록\n",
    "preprocessed = mecab.pos(request.get('input_data'))"
   ]
  },
  {
   "cell_type": "code",
   "execution_count": 4,
   "metadata": {},
   "outputs": [
    {
     "name": "stdout",
     "output_type": "stream",
     "text": [
      "[('2017', 'SN'), ('년', 'NNBC'), ('식', 'NNB'), ('쏘나타', 'NNP'), ('에', 'JKB'), ('무슨', 'MM'), ('문제', 'NNG'), ('가', 'JKS'), ('있', 'VA'), ('는지', 'EC'), ('알려줘', 'VV+EC+VX+EC')]\n"
     ]
    }
   ],
   "source": [
    "print (preprocessed)"
   ]
  },
  {
   "cell_type": "markdown",
   "metadata": {},
   "source": [
    "# Intent 도출"
   ]
  },
  {
   "cell_type": "code",
   "execution_count": 5,
   "metadata": {
    "collapsed": true
   },
   "outputs": [],
   "source": [
    "intent_id =\"정비진단\"\n",
    "slot_value = story_slot_entity.get(\"정비진단\")"
   ]
  },
  {
   "cell_type": "markdown",
   "metadata": {},
   "source": [
    "# NER 도출"
   ]
  },
  {
   "cell_type": "code",
   "execution_count": 7,
   "metadata": {
    "collapsed": true
   },
   "outputs": [],
   "source": [
    "B_vhcl = '쏘나타'\n",
    "B_year = '2017'\n",
    "B_psit = '소음'\n",
    "B_dtc='0300'"
   ]
  },
  {
   "cell_type": "code",
   "execution_count": null,
   "metadata": {
    "collapsed": true
   },
   "outputs": [],
   "source": [
    "    'vehl' : ['쏘나타','아반떼','스팅어','제네시스','산타페','투싼'],\n",
    "    'year' : ['2017','2016','2015','2014'],\n",
    "    'psit' : ['소음','누수','시동꺼짐'],\n",
    "    'part' : ['도어트림','엔진','미션','브레이크','브레이크 패드'],\n",
    "    'un_repair' : ['재현 안됨','나중에 동일현상 발생 시 재입고 요망' ],\n",
    "    'condition' : ['정차시','주행','시동시'],\n",
    "    'center' : ['정비소','정비센터','블루링크','오토큐'],\n",
    "    'dtc' : ['0300','b0400','c0500']"
   ]
  },
  {
   "cell_type": "markdown",
   "metadata": {},
   "source": [
    "# Dictionary 기반 Slot 구성"
   ]
  },
  {
   "cell_type": "code",
   "execution_count": 12,
   "metadata": {
    "collapsed": true
   },
   "outputs": [],
   "source": [
    "for pos_tag in preprocessed:\n",
    "    if (pos_tag[1] in ['SN','NNG','MAG', 'NNP','SL']): #명사, 영어만 사용\n",
    "        if pos_tag[0] in menu_list:\n",
    "            slot_value[\"현상\"] = pos_tag[0]"
   ]
  },
  {
   "cell_type": "code",
   "execution_count": 13,
   "metadata": {},
   "outputs": [
    {
     "name": "stdout",
     "output_type": "stream",
     "text": [
      "{'현상': None, '차종': None, '조건': None}\n"
     ]
    }
   ],
   "source": [
    "print (story_slot_entity.get('정비진단'))"
   ]
  },
  {
   "cell_type": "markdown",
   "metadata": {},
   "source": [
    "# 빈 Slot 검색"
   ]
  },
  {
   "cell_type": "code",
   "execution_count": 19,
   "metadata": {},
   "outputs": [
    {
     "name": "stdout",
     "output_type": "stream",
     "text": [
      "현상,차종,조건,입력해주세요\n"
     ]
    }
   ],
   "source": [
    "\n",
    "if(None in slot_value.values()): #빈 Slot 출력\n",
    "    key_values = \"\"\n",
    "    for key in slot_value.keys():\n",
    "        if(slot_value[key] is None):\n",
    "            key_values = key_values + key + \",\"\n",
    "    output_data = key_values + '입력해주세요'\n",
    "            \n",
    "print (output_data)"
   ]
  },
  {
   "cell_type": "code",
   "execution_count": 22,
   "metadata": {
    "collapsed": true
   },
   "outputs": [],
   "source": [
    "response = {\n",
    "            \"intent_id\" : \"\",\n",
    "            \"input_data\":\"쏘나타 소음\", \n",
    "            \"request_type\" : \"text\",\n",
    "            \"story_slot_entity\" : {},\n",
    "            \"output_data\" : \"\"\n",
    "          }\n",
    "response[\"output_data\"]= output_data"
   ]
  },
  {
   "cell_type": "code",
   "execution_count": 23,
   "metadata": {},
   "outputs": [
    {
     "name": "stdout",
     "output_type": "stream",
     "text": [
      "현상,차종,조건,입력해주세요\n"
     ]
    }
   ],
   "source": [
    "print (response['output_data'])"
   ]
  },
  {
   "cell_type": "code",
   "execution_count": null,
   "metadata": {
    "collapsed": true
   },
   "outputs": [],
   "source": []
  }
 ],
 "metadata": {
  "anaconda-cloud": {},
  "kernelspec": {
   "display_name": "Python [default]",
   "language": "python",
   "name": "python3"
  },
  "language_info": {
   "codemirror_mode": {
    "name": "ipython",
    "version": 3
   },
   "file_extension": ".py",
   "mimetype": "text/x-python",
   "name": "python",
   "nbconvert_exporter": "python",
   "pygments_lexer": "ipython3",
   "version": "3.5.2"
  }
 },
 "nbformat": 4,
 "nbformat_minor": 1
}
